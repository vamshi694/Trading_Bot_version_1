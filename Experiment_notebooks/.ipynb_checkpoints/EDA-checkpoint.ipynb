{
 "cells": [
  {
   "cell_type": "code",
   "execution_count": null,
   "metadata": {
    "tags": []
   },
   "outputs": [],
   "source": [
    "!pip install yfinance"
   ]
  },
  {
   "cell_type": "markdown",
   "metadata": {},
   "source": [
    "### Importing Libraries"
   ]
  },
  {
   "cell_type": "code",
   "execution_count": 24,
   "metadata": {},
   "outputs": [],
   "source": [
    "import pandas as pd\n",
    "import yfinance as yf\n",
    "import matplotlib.pyplot as plt"
   ]
  },
  {
   "cell_type": "markdown",
   "metadata": {},
   "source": [
    "### Defining Functions"
   ]
  },
  {
   "cell_type": "code",
   "execution_count": 25,
   "metadata": {},
   "outputs": [],
   "source": [
    "def cat_func(fear_greed_index):\n",
    "    \"\"\"\n",
    "    Returning a category value based on \n",
    "    fear & greed index\n",
    "    \"\"\"\n",
    "    if(fear_greed_index<=25): return \"Extreme Fear\"\n",
    "    elif(fear_greed_index<=50): return \"Fear\"\n",
    "    elif(fear_greed_index<=75): return \"Greed\"\n",
    "    else: return \"Extreme Greed\"\n",
    "\n",
    "def even_number_background(cell_value):\n",
    "\n",
    "    #highlight = 'background-color: darkorange;'\n",
    "    default = ''\n",
    "\n",
    "    #'Extreme Fear':'Red', 'Fear':'salmon','Greed':'mediumseagreen', 'Extreme Greed':'forestgreen'\n",
    "    \n",
    "    if cell_value < 25 :\n",
    "        return 'background-color: Red;'\n",
    "    elif cell_value < 50 :\n",
    "        return 'background-color: salmon;'\n",
    "    elif cell_value < 75 :\n",
    "        return 'background-color: mediumseagreen;'\n",
    "    else:\n",
    "        return 'background-color: forestgreen;'\n",
    "    #else: return default"
   ]
  },
  {
   "cell_type": "markdown",
   "metadata": {},
   "source": [
    "### Importing and Merging Datasets"
   ]
  },
  {
   "cell_type": "code",
   "execution_count": 26,
   "metadata": {},
   "outputs": [],
   "source": [
    "#Importing Fear & Greed Index\n",
    "fear_greed=pd.read_csv('/Users/a0t0az3/Documents/Personal_Projects/Trading_Bot/Untitled/Data/fear-greed.csv')\n",
    "fear_greed=fear_greed[['Date','Fear Greed']]"
   ]
  },
  {
   "cell_type": "code",
   "execution_count": 27,
   "metadata": {},
   "outputs": [
    {
     "data": {
      "text/html": [
       "<div>\n",
       "<style scoped>\n",
       "    .dataframe tbody tr th:only-of-type {\n",
       "        vertical-align: middle;\n",
       "    }\n",
       "\n",
       "    .dataframe tbody tr th {\n",
       "        vertical-align: top;\n",
       "    }\n",
       "\n",
       "    .dataframe thead th {\n",
       "        text-align: right;\n",
       "    }\n",
       "</style>\n",
       "<table border=\"1\" class=\"dataframe\">\n",
       "  <thead>\n",
       "    <tr style=\"text-align: right;\">\n",
       "      <th></th>\n",
       "      <th>Date</th>\n",
       "      <th>Fear Greed</th>\n",
       "    </tr>\n",
       "  </thead>\n",
       "  <tbody>\n",
       "    <tr>\n",
       "      <th>0</th>\n",
       "      <td>2011-01-03</td>\n",
       "      <td>68</td>\n",
       "    </tr>\n",
       "    <tr>\n",
       "      <th>1</th>\n",
       "      <td>2011-01-04</td>\n",
       "      <td>68</td>\n",
       "    </tr>\n",
       "    <tr>\n",
       "      <th>2</th>\n",
       "      <td>2011-01-05</td>\n",
       "      <td>67</td>\n",
       "    </tr>\n",
       "    <tr>\n",
       "      <th>3</th>\n",
       "      <td>2011-01-06</td>\n",
       "      <td>64</td>\n",
       "    </tr>\n",
       "    <tr>\n",
       "      <th>4</th>\n",
       "      <td>2011-01-07</td>\n",
       "      <td>63</td>\n",
       "    </tr>\n",
       "  </tbody>\n",
       "</table>\n",
       "</div>"
      ],
      "text/plain": [
       "         Date  Fear Greed\n",
       "0  2011-01-03          68\n",
       "1  2011-01-04          68\n",
       "2  2011-01-05          67\n",
       "3  2011-01-06          64\n",
       "4  2011-01-07          63"
      ]
     },
     "execution_count": 27,
     "metadata": {},
     "output_type": "execute_result"
    }
   ],
   "source": [
    "fear_greed.head()"
   ]
  },
  {
   "cell_type": "code",
   "execution_count": 36,
   "metadata": {},
   "outputs": [],
   "source": [
    "fear_greed=pd.read_csv('/Users/a0t0az3/Documents/Personal_Projects/Trading_Bot/Untitled/Data/complete_data_fearindex.csv')\n",
    "fear_greed=fear_greed[['date','index']].rename(columns={'date':'Date','index':'Fear Greed'})\n",
    "fear_greed['Fear Greed']=fear_greed['Fear Greed'].round(0).astype('int')"
   ]
  },
  {
   "cell_type": "code",
   "execution_count": 37,
   "metadata": {},
   "outputs": [],
   "source": [
    "#Importing S&P 500 index\n",
    "sp500 = yf.Ticker(\"^GSPC\").history(period=\"13y\")\n",
    "sp500=sp500.reset_index(drop=False)\n",
    "sp500=sp500[sp500['Date']>'2011-01-01'].reset_index(drop=True)\n",
    "sp500['Date']=sp500['Date'].dt.date\n",
    "sp500['Date']=sp500['Date'].astype('str')\n",
    "sp500['Close']=sp500['Close'].round(2)\n",
    "sp500=sp500.rename(columns={'Close':'sp500'})\n",
    "sp500=sp500[['Date','sp500']]\n",
    "\n",
    "#Merging two dataframes\n",
    "fear_greed=fear_greed.merge(sp500, how='left', on='Date')"
   ]
  },
  {
   "cell_type": "markdown",
   "metadata": {},
   "source": [
    "### Features"
   ]
  },
  {
   "cell_type": "code",
   "execution_count": 38,
   "metadata": {},
   "outputs": [],
   "source": [
    "fear_greed['Month']=fear_greed['Date'].astype('datetime64').dt.month #.astype('str')\n",
    "fear_greed['Year']=fear_greed['Date'].astype('datetime64').dt.year #.astype('str')\n",
    "fear_greed['Year_Month']=fear_greed.apply(lambda x: str(x.Year)+\"_\"+str(x.Month), axis=1)\n",
    "fear_greed['Category']=fear_greed['Fear Greed'].apply(lambda x: cat_func(x))\n",
    "fear_greed['sp500_change_%']=fear_greed['sp500'].pct_change()*100"
   ]
  },
  {
   "cell_type": "markdown",
   "metadata": {},
   "source": [
    "### Exploratory Data Analysis"
   ]
  },
  {
   "cell_type": "markdown",
   "metadata": {},
   "source": [
    "#### Fear_Greed Vs SP500"
   ]
  },
  {
   "cell_type": "code",
   "execution_count": 39,
   "metadata": {},
   "outputs": [
    {
     "data": {
      "text/plain": [
       "<Figure size 2880x1728 with 0 Axes>"
      ]
     },
     "metadata": {},
     "output_type": "display_data"
    },
    {
     "data": {
      "image/png": "[encoded data removed]",
      "text/plain": [
       "<Figure size 1440x576 with 2 Axes>"
      ]
     },
     "metadata": {
      "needs_background": "light"
     },
     "output_type": "display_data"
    }
   ],
   "source": [
    "plt.figure(figsize=(40,24))\n",
    "fig, ax = plt.subplots()\n",
    "# Fear & Greed\n",
    "fear_greed[['Date','Fear Greed','sp500']].set_index('Date').plot(\n",
    "    use_index=True, \n",
    "    y='Fear Greed', \n",
    "    ax=ax, \n",
    "    color='red',figsize=(20,8)\n",
    ")\n",
    "\n",
    "#SP500\n",
    "fear_greed[['Date','Fear Greed','sp500']].set_index('Date').plot(\n",
    "    use_index=True, \n",
    "    y='sp500', \n",
    "    ax=ax, \n",
    "    secondary_y=True, \n",
    "    color='blue',\n",
    "    figsize=(20,8)\n",
    ")\n",
    "plt.title('Pearson Coorealtion: '+ str( round(fear_greed[['Fear Greed','sp500']].corr('pearson')['Fear Greed']['sp500'],2)))\n",
    "plt.show()"
   ]
  },
  {
   "cell_type": "markdown",
   "metadata": {},
   "source": [
    "### Fear & Greed Index by Year_Month"
   ]
  },
  {
   "cell_type": "code",
   "execution_count": 40,
   "metadata": {},
   "outputs": [],
   "source": [
    "temp_df=fear_greed.groupby('Year_Month')['Fear Greed'].mean().reset_index()\n",
    "temp_df['Year']=temp_df['Year_Month'].apply(lambda x: int(x.split(\"_\")[0]))\n",
    "temp_df['Month']=temp_df['Year_Month'].apply(lambda x: int(x.split(\"_\")[1]))\n",
    "temp_df=temp_df.sort_values(['Year','Month'])[['Year_Month','Fear Greed']]"
   ]
  },
  {
   "cell_type": "code",
   "execution_count": 41,
   "metadata": {},
   "outputs": [
    {
     "data": {
      "text/plain": [
       "<AxesSubplot: xlabel='Year_Month'>"
      ]
     },
     "execution_count": 41,
     "metadata": {},
     "output_type": "execute_result"
    },
    {
     "data": {
      "image/png": "[encoded data removed]",
      "text/plain": [
       "<Figure size 2376x576 with 1 Axes>"
      ]
     },
     "metadata": {
      "needs_background": "light"
     },
     "output_type": "display_data"
    }
   ],
   "source": [
    "temp_df.groupby('Year_Month')['Fear Greed'].mean().reset_index().set_index('Year_Month').plot(kind='bar',figsize=(33,8))"
   ]
  },
  {
   "cell_type": "markdown",
   "metadata": {},
   "source": [
    "### Fear & Greed Index by Years"
   ]
  },
  {
   "cell_type": "code",
   "execution_count": 42,
   "metadata": {},
   "outputs": [
    {
     "data": {
      "text/plain": [
       "<AxesSubplot: xlabel='Year'>"
      ]
     },
     "execution_count": 42,
     "metadata": {},
     "output_type": "execute_result"
    },
    {
     "data": {
      "image/png": "[encoded data removed]",
      "text/plain": [
       "<Figure size 1008x504 with 1 Axes>"
      ]
     },
     "metadata": {
      "needs_background": "light"
     },
     "output_type": "display_data"
    }
   ],
   "source": [
    "fear_greed.groupby('Year')['Fear Greed'].mean().reset_index().sort_values(by='Year').set_index('Year').plot(kind='bar',figsize=(14,7))"
   ]
  },
  {
   "cell_type": "markdown",
   "metadata": {
    "tags": []
   },
   "source": [
    "### Fear & Greed Index by Months"
   ]
  },
  {
   "cell_type": "code",
   "execution_count": 43,
   "metadata": {},
   "outputs": [
    {
     "data": {
      "text/plain": [
       "<AxesSubplot: xlabel='Month'>"
      ]
     },
     "execution_count": 43,
     "metadata": {},
     "output_type": "execute_result"
    },
    {
     "data": {
      "image/png": "[encoded data removed]",
      "text/plain": [
       "<Figure size 1008x504 with 1 Axes>"
      ]
     },
     "metadata": {
      "needs_background": "light"
     },
     "output_type": "display_data"
    }
   ],
   "source": [
    "fear_greed.groupby('Month')['Fear Greed'].mean().reset_index().sort_values(by='Month').set_index('Month').plot(kind='bar',figsize=(14,7))"
   ]
  },
  {
   "cell_type": "markdown",
   "metadata": {},
   "source": [
    "### Fear & Greed Index by Category </br>\n",
    "0 to 25   : Extreme Fear </br>\n",
    "25 to 50  : Fear </br>\n",
    "50 to 75  : Greed </br>\n",
    "75 to 100 : Extreme Fear </br>"
   ]
  },
  {
   "cell_type": "code",
   "execution_count": 44,
   "metadata": {
    "tags": []
   },
   "outputs": [],
   "source": [
    "x=fear_greed.groupby(['Year','Category'])['Date'].count().reset_index()"
   ]
  },
  {
   "cell_type": "code",
   "execution_count": 45,
   "metadata": {
    "tags": []
   },
   "outputs": [
    {
     "data": {
      "image/png": "[encoded data removed]",
      "text/plain": [
       "<Figure size 1008x432 with 1 Axes>"
      ]
     },
     "metadata": {
      "needs_background": "light"
     },
     "output_type": "display_data"
    }
   ],
   "source": [
    "pd.pivot_table(data=x, index=['Year'], columns=['Category'], values='Date').rename_axis(None)[['Extreme Fear','Fear','Greed','Extreme Greed']].plot.bar(stacked=True, \n",
    "                color ={'Extreme Fear':'Red', 'Fear':'salmon','Greed':'mediumseagreen', 'Extreme Greed':'forestgreen'}, figsize=(14,6),\n",
    "                 xlabel='Year', ylabel='No of Days')\n",
    "plt.title(str(x.groupby('Category')['Date'].mean()))\n",
    "plt.show()"
   ]
  },
  {
   "cell_type": "code",
   "execution_count": 46,
   "metadata": {},
   "outputs": [
    {
     "data": {
      "text/html": [
       "<div>\n",
       "<style scoped>\n",
       "    .dataframe tbody tr th:only-of-type {\n",
       "        vertical-align: middle;\n",
       "    }\n",
       "\n",
       "    .dataframe tbody tr th {\n",
       "        vertical-align: top;\n",
       "    }\n",
       "\n",
       "    .dataframe thead th {\n",
       "        text-align: right;\n",
       "    }\n",
       "</style>\n",
       "<table border=\"1\" class=\"dataframe\">\n",
       "  <thead>\n",
       "    <tr style=\"text-align: right;\">\n",
       "      <th>Category</th>\n",
       "      <th>Extreme Fear</th>\n",
       "      <th>Fear</th>\n",
       "      <th>Greed</th>\n",
       "      <th>Extreme Greed</th>\n",
       "    </tr>\n",
       "  </thead>\n",
       "  <tbody>\n",
       "    <tr>\n",
       "      <th>2011</th>\n",
       "      <td>75</td>\n",
       "      <td>105</td>\n",
       "      <td>70</td>\n",
       "      <td>2</td>\n",
       "    </tr>\n",
       "    <tr>\n",
       "      <th>2012</th>\n",
       "      <td>23</td>\n",
       "      <td>73</td>\n",
       "      <td>93</td>\n",
       "      <td>61</td>\n",
       "    </tr>\n",
       "    <tr>\n",
       "      <th>2013</th>\n",
       "      <td>18</td>\n",
       "      <td>66</td>\n",
       "      <td>115</td>\n",
       "      <td>53</td>\n",
       "    </tr>\n",
       "    <tr>\n",
       "      <th>2014</th>\n",
       "      <td>56</td>\n",
       "      <td>110</td>\n",
       "      <td>60</td>\n",
       "      <td>26</td>\n",
       "    </tr>\n",
       "    <tr>\n",
       "      <th>2015</th>\n",
       "      <td>66</td>\n",
       "      <td>103</td>\n",
       "      <td>76</td>\n",
       "      <td>7</td>\n",
       "    </tr>\n",
       "    <tr>\n",
       "      <th>2016</th>\n",
       "      <td>25</td>\n",
       "      <td>53</td>\n",
       "      <td>124</td>\n",
       "      <td>50</td>\n",
       "    </tr>\n",
       "    <tr>\n",
       "      <th>2017</th>\n",
       "      <td>8</td>\n",
       "      <td>70</td>\n",
       "      <td>143</td>\n",
       "      <td>30</td>\n",
       "    </tr>\n",
       "    <tr>\n",
       "      <th>2018</th>\n",
       "      <td>101</td>\n",
       "      <td>53</td>\n",
       "      <td>86</td>\n",
       "      <td>11</td>\n",
       "    </tr>\n",
       "    <tr>\n",
       "      <th>2019</th>\n",
       "      <td>27</td>\n",
       "      <td>72</td>\n",
       "      <td>127</td>\n",
       "      <td>26</td>\n",
       "    </tr>\n",
       "    <tr>\n",
       "      <th>2020</th>\n",
       "      <td>30</td>\n",
       "      <td>47</td>\n",
       "      <td>87</td>\n",
       "      <td>17</td>\n",
       "    </tr>\n",
       "    <tr>\n",
       "      <th>2021</th>\n",
       "      <td>45</td>\n",
       "      <td>192</td>\n",
       "      <td>104</td>\n",
       "      <td>3</td>\n",
       "    </tr>\n",
       "    <tr>\n",
       "      <th>2022</th>\n",
       "      <td>99</td>\n",
       "      <td>154</td>\n",
       "      <td>111</td>\n",
       "      <td>1</td>\n",
       "    </tr>\n",
       "    <tr>\n",
       "      <th>2023</th>\n",
       "      <td>5</td>\n",
       "      <td>30</td>\n",
       "      <td>116</td>\n",
       "      <td>9</td>\n",
       "    </tr>\n",
       "  </tbody>\n",
       "</table>\n",
       "</div>"
      ],
      "text/plain": [
       "Category  Extreme Fear  Fear  Greed  Extreme Greed\n",
       "2011                75   105     70              2\n",
       "2012                23    73     93             61\n",
       "2013                18    66    115             53\n",
       "2014                56   110     60             26\n",
       "2015                66   103     76              7\n",
       "2016                25    53    124             50\n",
       "2017                 8    70    143             30\n",
       "2018               101    53     86             11\n",
       "2019                27    72    127             26\n",
       "2020                30    47     87             17\n",
       "2021                45   192    104              3\n",
       "2022                99   154    111              1\n",
       "2023                 5    30    116              9"
      ]
     },
     "execution_count": 46,
     "metadata": {},
     "output_type": "execute_result"
    }
   ],
   "source": [
    "pivot_df=pd.pivot_table(data=x, index=['Year'], columns=['Category'], values='Date').rename_axis(None)[['Extreme Fear','Fear','Greed','Extreme Greed']]\n",
    "pivot_df\n",
    "#pivot_df.style.applymap(even_number_background)"
   ]
  },
  {
   "cell_type": "markdown",
   "metadata": {},
   "source": [
    "### Percentage change by category"
   ]
  },
  {
   "cell_type": "code",
   "execution_count": 47,
   "metadata": {},
   "outputs": [
    {
     "data": {
      "text/plain": [
       "Category\n",
       "Extreme Fear    -0.174877\n",
       "Extreme Greed    0.198846\n",
       "Fear             0.032843\n",
       "Greed            0.112258\n",
       "Name: sp500_change_%, dtype: float64"
      ]
     },
     "execution_count": 47,
     "metadata": {},
     "output_type": "execute_result"
    }
   ],
   "source": [
    "# Extreme fear and greed change in \n",
    "fear_greed.groupby('Category')['sp500_change_%'].mean()"
   ]
  },
  {
   "cell_type": "code",
   "execution_count": null,
   "metadata": {},
   "outputs": [],
   "source": []
  },
  {
   "cell_type": "markdown",
   "metadata": {
    "jupyter": {
     "outputs_hidden": true
    },
    "tags": []
   },
   "source": [
    "### Fear & Greed Index by Category "
   ]
  },
  {
   "cell_type": "code",
   "execution_count": 48,
   "metadata": {},
   "outputs": [],
   "source": [
    "feature1= fear_greed.copy()\n",
    "feature1['Category_shift']=feature1['Category'].shift(1)\n",
    "feature1['Change_Flag']=feature1.apply(lambda x: 1 if(x.Category==x.Category_shift) else 0 ,axis=1)\n",
    "feature1['groupId1']=feature1['Change_Flag'].eq(0).cumsum()\n",
    "feature1['Cumsum']=feature1.groupby('groupId1')['Change_Flag'].transform('cumsum')\n",
    "feature1=feature1[['Date', 'Fear Greed', 'sp500', 'Month', 'Year', 'Year_Month','Category','Cumsum']]"
   ]
  },
  {
   "cell_type": "code",
   "execution_count": 49,
   "metadata": {},
   "outputs": [
    {
     "data": {
      "text/plain": [
       "Category\n",
       "Extreme Fear     8.031250\n",
       "Extreme Greed    6.047619\n",
       "Fear             6.470199\n",
       "Greed            9.092308\n",
       "Name: Cumsum, dtype: float64"
      ]
     },
     "execution_count": 49,
     "metadata": {},
     "output_type": "execute_result"
    }
   ],
   "source": [
    "feature1[feature1['Cumsum']-feature1['Cumsum'].shift(-1)!=-1].groupby('Category')['Cumsum'].mean()"
   ]
  },
  {
   "cell_type": "code",
   "execution_count": 50,
   "metadata": {},
   "outputs": [
    {
     "data": {
      "text/plain": [
       "Category\n",
       "Extreme Fear      64\n",
       "Extreme Greed     42\n",
       "Fear             151\n",
       "Greed            130\n",
       "Name: Cumsum, dtype: int64"
      ]
     },
     "execution_count": 50,
     "metadata": {},
     "output_type": "execute_result"
    }
   ],
   "source": [
    "feature1[feature1['Cumsum']-feature1['Cumsum'].shift(-1)!=-1].groupby('Category')['Cumsum'].count()"
   ]
  },
  {
   "cell_type": "markdown",
   "metadata": {},
   "source": [
    "#### Average number of days to move from Fear to Greed"
   ]
  },
  {
   "cell_type": "code",
   "execution_count": 51,
   "metadata": {},
   "outputs": [],
   "source": [
    "feature2= fear_greed.copy()\n",
    "feature2['Category_shift']=feature2['Category'].shift(1)\n",
    "feature2['Change_Flag']=feature2.apply(lambda x: 0 if(x.Category==x.Category_shift) else 1 ,axis=1)\n",
    "\n",
    "feature2=feature2[(feature2['Change_Flag']==1) & ((feature2['Category']=='Fear') | (feature2['Category']=='Greed')) ]\n",
    "feature2=feature2[(feature2['Change_Flag']==1) & ((feature2['Category']=='Fear') | (feature2['Category']=='Greed'))][['Date', 'Fear Greed', 'sp500',\n",
    "                                                                                                                             'Category']].reset_index(drop=True)\n",
    "feature2['Category_shift']=feature2['Category'].shift(1)\n",
    "feature2['Change_Flag']=feature2.apply(lambda x: 0 if(x.Category==x.Category_shift) else 1 ,axis=1)\n",
    "feature2=feature2[(feature2['Change_Flag']==1)][['Date','Fear Greed','sp500','Category']]\n",
    "\n",
    "feature2['Date']=pd.to_datetime(feature2['Date'])\n",
    "feature2=feature2[['Date','Fear Greed','sp500']].diff()\n",
    "feature2=feature2[feature2['Fear Greed']>0].reset_index(drop=True)"
   ]
  },
  {
   "cell_type": "code",
   "execution_count": 52,
   "metadata": {},
   "outputs": [
    {
     "data": {
      "text/html": [
       "<div>\n",
       "<style scoped>\n",
       "    .dataframe tbody tr th:only-of-type {\n",
       "        vertical-align: middle;\n",
       "    }\n",
       "\n",
       "    .dataframe tbody tr th {\n",
       "        vertical-align: top;\n",
       "    }\n",
       "\n",
       "    .dataframe thead th {\n",
       "        text-align: right;\n",
       "    }\n",
       "</style>\n",
       "<table border=\"1\" class=\"dataframe\">\n",
       "  <thead>\n",
       "    <tr style=\"text-align: right;\">\n",
       "      <th></th>\n",
       "      <th>Date</th>\n",
       "      <th>Fear Greed</th>\n",
       "      <th>sp500</th>\n",
       "    </tr>\n",
       "  </thead>\n",
       "  <tbody>\n",
       "    <tr>\n",
       "      <th>0</th>\n",
       "      <td>17 days</td>\n",
       "      <td>9.0</td>\n",
       "      <td>35.70</td>\n",
       "    </tr>\n",
       "    <tr>\n",
       "      <th>1</th>\n",
       "      <td>133 days</td>\n",
       "      <td>9.0</td>\n",
       "      <td>22.44</td>\n",
       "    </tr>\n",
       "    <tr>\n",
       "      <th>2</th>\n",
       "      <td>15 days</td>\n",
       "      <td>3.0</td>\n",
       "      <td>-8.20</td>\n",
       "    </tr>\n",
       "    <tr>\n",
       "      <th>3</th>\n",
       "      <td>87 days</td>\n",
       "      <td>16.0</td>\n",
       "      <td>-122.04</td>\n",
       "    </tr>\n",
       "    <tr>\n",
       "      <th>4</th>\n",
       "      <td>7 days</td>\n",
       "      <td>5.0</td>\n",
       "      <td>-56.98</td>\n",
       "    </tr>\n",
       "    <tr>\n",
       "      <th>...</th>\n",
       "      <td>...</td>\n",
       "      <td>...</td>\n",
       "      <td>...</td>\n",
       "    </tr>\n",
       "    <tr>\n",
       "      <th>83</th>\n",
       "      <td>115 days</td>\n",
       "      <td>4.0</td>\n",
       "      <td>-394.83</td>\n",
       "    </tr>\n",
       "    <tr>\n",
       "      <th>84</th>\n",
       "      <td>1 days</td>\n",
       "      <td>2.0</td>\n",
       "      <td>-31.16</td>\n",
       "    </tr>\n",
       "    <tr>\n",
       "      <th>85</th>\n",
       "      <td>54 days</td>\n",
       "      <td>2.0</td>\n",
       "      <td>-107.74</td>\n",
       "    </tr>\n",
       "    <tr>\n",
       "      <th>86</th>\n",
       "      <td>26 days</td>\n",
       "      <td>10.0</td>\n",
       "      <td>117.25</td>\n",
       "    </tr>\n",
       "    <tr>\n",
       "      <th>87</th>\n",
       "      <td>25 days</td>\n",
       "      <td>6.0</td>\n",
       "      <td>NaN</td>\n",
       "    </tr>\n",
       "  </tbody>\n",
       "</table>\n",
       "<p>88 rows × 3 columns</p>\n",
       "</div>"
      ],
      "text/plain": [
       "       Date  Fear Greed   sp500\n",
       "0   17 days         9.0   35.70\n",
       "1  133 days         9.0   22.44\n",
       "2   15 days         3.0   -8.20\n",
       "3   87 days        16.0 -122.04\n",
       "4    7 days         5.0  -56.98\n",
       "..      ...         ...     ...\n",
       "83 115 days         4.0 -394.83\n",
       "84   1 days         2.0  -31.16\n",
       "85  54 days         2.0 -107.74\n",
       "86  26 days        10.0  117.25\n",
       "87  25 days         6.0     NaN\n",
       "\n",
       "[88 rows x 3 columns]"
      ]
     },
     "execution_count": 52,
     "metadata": {},
     "output_type": "execute_result"
    }
   ],
   "source": [
    "feature2"
   ]
  },
  {
   "cell_type": "code",
   "execution_count": 53,
   "metadata": {},
   "outputs": [
    {
     "data": {
      "text/html": [
       "<div>\n",
       "<style scoped>\n",
       "    .dataframe tbody tr th:only-of-type {\n",
       "        vertical-align: middle;\n",
       "    }\n",
       "\n",
       "    .dataframe tbody tr th {\n",
       "        vertical-align: top;\n",
       "    }\n",
       "\n",
       "    .dataframe thead th {\n",
       "        text-align: right;\n",
       "    }\n",
       "</style>\n",
       "<table border=\"1\" class=\"dataframe\">\n",
       "  <thead>\n",
       "    <tr style=\"text-align: right;\">\n",
       "      <th></th>\n",
       "      <th>Date</th>\n",
       "      <th>Fear Greed</th>\n",
       "      <th>sp500</th>\n",
       "    </tr>\n",
       "  </thead>\n",
       "  <tbody>\n",
       "    <tr>\n",
       "      <th>66</th>\n",
       "      <td>90 days</td>\n",
       "      <td>2.0</td>\n",
       "      <td>-401.62</td>\n",
       "    </tr>\n",
       "  </tbody>\n",
       "</table>\n",
       "</div>"
      ],
      "text/plain": [
       "      Date  Fear Greed   sp500\n",
       "66 90 days         2.0 -401.62"
      ]
     },
     "execution_count": 53,
     "metadata": {},
     "output_type": "execute_result"
    }
   ],
   "source": [
    "feature2[feature2['sp500']<-400]"
   ]
  },
  {
   "cell_type": "code",
   "execution_count": 54,
   "metadata": {},
   "outputs": [
    {
     "data": {
      "text/html": [
       "<div>\n",
       "<style scoped>\n",
       "    .dataframe tbody tr th:only-of-type {\n",
       "        vertical-align: middle;\n",
       "    }\n",
       "\n",
       "    .dataframe tbody tr th {\n",
       "        vertical-align: top;\n",
       "    }\n",
       "\n",
       "    .dataframe thead th {\n",
       "        text-align: right;\n",
       "    }\n",
       "</style>\n",
       "<table border=\"1\" class=\"dataframe\">\n",
       "  <thead>\n",
       "    <tr style=\"text-align: right;\">\n",
       "      <th></th>\n",
       "      <th>Date</th>\n",
       "      <th>Fear Greed</th>\n",
       "      <th>sp500</th>\n",
       "    </tr>\n",
       "  </thead>\n",
       "  <tbody>\n",
       "    <tr>\n",
       "      <th>count</th>\n",
       "      <td>88</td>\n",
       "      <td>88.000000</td>\n",
       "      <td>82.000000</td>\n",
       "    </tr>\n",
       "    <tr>\n",
       "      <th>mean</th>\n",
       "      <td>25 days 00:32:43.636363636</td>\n",
       "      <td>7.852273</td>\n",
       "      <td>9.043902</td>\n",
       "    </tr>\n",
       "    <tr>\n",
       "      <th>std</th>\n",
       "      <td>34 days 17:35:13.792868050</td>\n",
       "      <td>5.816227</td>\n",
       "      <td>88.864954</td>\n",
       "    </tr>\n",
       "    <tr>\n",
       "      <th>min</th>\n",
       "      <td>1 days 00:00:00</td>\n",
       "      <td>1.000000</td>\n",
       "      <td>-401.620000</td>\n",
       "    </tr>\n",
       "    <tr>\n",
       "      <th>25%</th>\n",
       "      <td>3 days 00:00:00</td>\n",
       "      <td>3.750000</td>\n",
       "      <td>-2.242500</td>\n",
       "    </tr>\n",
       "    <tr>\n",
       "      <th>50%</th>\n",
       "      <td>8 days 00:00:00</td>\n",
       "      <td>6.500000</td>\n",
       "      <td>19.645000</td>\n",
       "    </tr>\n",
       "    <tr>\n",
       "      <th>75%</th>\n",
       "      <td>33 days 06:00:00</td>\n",
       "      <td>10.000000</td>\n",
       "      <td>36.482500</td>\n",
       "    </tr>\n",
       "    <tr>\n",
       "      <th>max</th>\n",
       "      <td>147 days 00:00:00</td>\n",
       "      <td>27.000000</td>\n",
       "      <td>295.930000</td>\n",
       "    </tr>\n",
       "  </tbody>\n",
       "</table>\n",
       "</div>"
      ],
      "text/plain": [
       "                             Date  Fear Greed       sp500\n",
       "count                          88   88.000000   82.000000\n",
       "mean   25 days 00:32:43.636363636    7.852273    9.043902\n",
       "std    34 days 17:35:13.792868050    5.816227   88.864954\n",
       "min               1 days 00:00:00    1.000000 -401.620000\n",
       "25%               3 days 00:00:00    3.750000   -2.242500\n",
       "50%               8 days 00:00:00    6.500000   19.645000\n",
       "75%              33 days 06:00:00   10.000000   36.482500\n",
       "max             147 days 00:00:00   27.000000  295.930000"
      ]
     },
     "execution_count": 54,
     "metadata": {},
     "output_type": "execute_result"
    }
   ],
   "source": [
    "feature2.describe()"
   ]
  },
  {
   "cell_type": "markdown",
   "metadata": {},
   "source": [
    "#### Average number of days to move from Extreme fear to extreme Greed"
   ]
  },
  {
   "cell_type": "code",
   "execution_count": 55,
   "metadata": {
    "tags": []
   },
   "outputs": [],
   "source": [
    "feature2= fear_greed.copy()\n",
    "feature2['Category_shift']=feature2['Category'].shift(1)\n",
    "feature2['Change_Flag']=feature2.apply(lambda x: 0 if(x.Category==x.Category_shift) else 1 ,axis=1)\n",
    "\n",
    "feature2=feature2[(feature2['Change_Flag']==1) & ((feature2['Category']=='Extreme Fear') | (feature2['Category']=='Extreme Greed')) ]\n",
    "feature2=feature2[(feature2['Change_Flag']==1) & ((feature2['Category']=='Extreme Fear') | (feature2['Category']=='Extreme Greed'))][['Date', 'Fear Greed', 'sp500',\n",
    "                                                                                                                             'Category']].reset_index(drop=True)\n",
    "feature2['Category_shift']=feature2['Category'].shift(1)\n",
    "feature2['Change_Flag']=feature2.apply(lambda x: 0 if(x.Category==x.Category_shift) else 1 ,axis=1)\n",
    "feature2=feature2[(feature2['Change_Flag']==1)][['Date','Fear Greed','sp500','Category']]\n",
    "\n",
    "feature2['Date']=pd.to_datetime(feature2['Date'])\n",
    "feature2=feature2[['Date','Fear Greed','sp500']].diff()\n",
    "feature2=feature2[feature2['Fear Greed']>0].reset_index(drop=True)"
   ]
  },
  {
   "cell_type": "code",
   "execution_count": 56,
   "metadata": {},
   "outputs": [
    {
     "data": {
      "text/html": [
       "<div>\n",
       "<style scoped>\n",
       "    .dataframe tbody tr th:only-of-type {\n",
       "        vertical-align: middle;\n",
       "    }\n",
       "\n",
       "    .dataframe tbody tr th {\n",
       "        vertical-align: top;\n",
       "    }\n",
       "\n",
       "    .dataframe thead th {\n",
       "        text-align: right;\n",
       "    }\n",
       "</style>\n",
       "<table border=\"1\" class=\"dataframe\">\n",
       "  <thead>\n",
       "    <tr style=\"text-align: right;\">\n",
       "      <th></th>\n",
       "      <th>Date</th>\n",
       "      <th>Fear Greed</th>\n",
       "      <th>sp500</th>\n",
       "    </tr>\n",
       "  </thead>\n",
       "  <tbody>\n",
       "    <tr>\n",
       "      <th>0</th>\n",
       "      <td>283 days</td>\n",
       "      <td>65.0</td>\n",
       "      <td>-42.39</td>\n",
       "    </tr>\n",
       "    <tr>\n",
       "      <th>1</th>\n",
       "      <td>97 days</td>\n",
       "      <td>53.0</td>\n",
       "      <td>62.12</td>\n",
       "    </tr>\n",
       "    <tr>\n",
       "      <th>2</th>\n",
       "      <td>197 days</td>\n",
       "      <td>53.0</td>\n",
       "      <td>209.32</td>\n",
       "    </tr>\n",
       "    <tr>\n",
       "      <th>3</th>\n",
       "      <td>37 days</td>\n",
       "      <td>53.0</td>\n",
       "      <td>92.25</td>\n",
       "    </tr>\n",
       "    <tr>\n",
       "      <th>4</th>\n",
       "      <td>55 days</td>\n",
       "      <td>60.0</td>\n",
       "      <td>124.77</td>\n",
       "    </tr>\n",
       "    <tr>\n",
       "      <th>5</th>\n",
       "      <td>201 days</td>\n",
       "      <td>67.0</td>\n",
       "      <td>169.67</td>\n",
       "    </tr>\n",
       "    <tr>\n",
       "      <th>6</th>\n",
       "      <td>262 days</td>\n",
       "      <td>70.0</td>\n",
       "      <td>-17.05</td>\n",
       "    </tr>\n",
       "    <tr>\n",
       "      <th>7</th>\n",
       "      <td>35 days</td>\n",
       "      <td>57.0</td>\n",
       "      <td>100.51</td>\n",
       "    </tr>\n",
       "    <tr>\n",
       "      <th>8</th>\n",
       "      <td>155 days</td>\n",
       "      <td>52.0</td>\n",
       "      <td>171.28</td>\n",
       "    </tr>\n",
       "    <tr>\n",
       "      <th>9</th>\n",
       "      <td>206 days</td>\n",
       "      <td>60.0</td>\n",
       "      <td>134.61</td>\n",
       "    </tr>\n",
       "    <tr>\n",
       "      <th>10</th>\n",
       "      <td>388 days</td>\n",
       "      <td>57.0</td>\n",
       "      <td>186.57</td>\n",
       "    </tr>\n",
       "    <tr>\n",
       "      <th>11</th>\n",
       "      <td>184 days</td>\n",
       "      <td>54.0</td>\n",
       "      <td>356.34</td>\n",
       "    </tr>\n",
       "    <tr>\n",
       "      <th>12</th>\n",
       "      <td>115 days</td>\n",
       "      <td>68.0</td>\n",
       "      <td>NaN</td>\n",
       "    </tr>\n",
       "    <tr>\n",
       "      <th>13</th>\n",
       "      <td>366 days</td>\n",
       "      <td>51.0</td>\n",
       "      <td>-490.43</td>\n",
       "    </tr>\n",
       "    <tr>\n",
       "      <th>14</th>\n",
       "      <td>88 days</td>\n",
       "      <td>53.0</td>\n",
       "      <td>NaN</td>\n",
       "    </tr>\n",
       "  </tbody>\n",
       "</table>\n",
       "</div>"
      ],
      "text/plain": [
       "       Date  Fear Greed   sp500\n",
       "0  283 days        65.0  -42.39\n",
       "1   97 days        53.0   62.12\n",
       "2  197 days        53.0  209.32\n",
       "3   37 days        53.0   92.25\n",
       "4   55 days        60.0  124.77\n",
       "5  201 days        67.0  169.67\n",
       "6  262 days        70.0  -17.05\n",
       "7   35 days        57.0  100.51\n",
       "8  155 days        52.0  171.28\n",
       "9  206 days        60.0  134.61\n",
       "10 388 days        57.0  186.57\n",
       "11 184 days        54.0  356.34\n",
       "12 115 days        68.0     NaN\n",
       "13 366 days        51.0 -490.43\n",
       "14  88 days        53.0     NaN"
      ]
     },
     "execution_count": 56,
     "metadata": {},
     "output_type": "execute_result"
    }
   ],
   "source": [
    "feature2"
   ]
  },
  {
   "cell_type": "code",
   "execution_count": 57,
   "metadata": {},
   "outputs": [
    {
     "data": {
      "text/plain": [
       "Date          177 days 22:24:00\n",
       "Fear Greed                 58.2\n",
       "sp500                 81.351538\n",
       "dtype: object"
      ]
     },
     "execution_count": 57,
     "metadata": {},
     "output_type": "execute_result"
    }
   ],
   "source": [
    "feature2.mean()"
   ]
  },
  {
   "cell_type": "markdown",
   "metadata": {},
   "source": [
    "#### Average number of days to move from Extreme fear to Greed"
   ]
  },
  {
   "cell_type": "code",
   "execution_count": 58,
   "metadata": {},
   "outputs": [],
   "source": [
    "feature3= fear_greed.copy()\n",
    "feature3['Category_shift']=feature3['Category'].shift(1)\n",
    "feature3['Change_Flag']=feature3.apply(lambda x: 0 if(x.Category==x.Category_shift) else 1 ,axis=1)\n",
    "\n",
    "feature3=feature3[(feature3['Change_Flag']==1) & ((feature3['Category']=='Extreme Fear') | (feature3['Category']=='Greed')) ]\n",
    "feature3=feature3[(feature3['Change_Flag']==1) & ((feature3['Category']=='Extreme Fear') | (feature3['Category']=='Greed'))][['Date', 'Fear Greed', 'sp500',\n",
    "                                                                                                                             'Category']].reset_index(drop=True)\n",
    "feature3['Category_shift']=feature3['Category'].shift(1)\n",
    "feature3['Change_Flag']=feature3.apply(lambda x: 0 if(x.Category==x.Category_shift) else 1 ,axis=1)\n",
    "feature3=feature3[(feature3['Change_Flag']==1)][['Date','Fear Greed','sp500','Category']]\n",
    "\n",
    "feature3['Date']=pd.to_datetime(feature3['Date'])\n",
    "feature3=feature3[['Date','Fear Greed','sp500']].diff()\n",
    "feature3=feature3[feature3['Fear Greed']>0].reset_index(drop=True)"
   ]
  },
  {
   "cell_type": "code",
   "execution_count": 59,
   "metadata": {},
   "outputs": [
    {
     "data": {
      "text/plain": [
       "Date          55 days 11:04:36.923076923\n",
       "Fear Greed                     32.961538\n",
       "sp500                          19.119091\n",
       "dtype: object"
      ]
     },
     "execution_count": 59,
     "metadata": {},
     "output_type": "execute_result"
    }
   ],
   "source": [
    "feature3.mean()"
   ]
  },
  {
   "cell_type": "code",
   "execution_count": 60,
   "metadata": {},
   "outputs": [
    {
     "data": {
      "text/html": [
       "<div>\n",
       "<style scoped>\n",
       "    .dataframe tbody tr th:only-of-type {\n",
       "        vertical-align: middle;\n",
       "    }\n",
       "\n",
       "    .dataframe tbody tr th {\n",
       "        vertical-align: top;\n",
       "    }\n",
       "\n",
       "    .dataframe thead th {\n",
       "        text-align: right;\n",
       "    }\n",
       "</style>\n",
       "<table border=\"1\" class=\"dataframe\">\n",
       "  <thead>\n",
       "    <tr style=\"text-align: right;\">\n",
       "      <th></th>\n",
       "      <th>Date</th>\n",
       "      <th>Fear Greed</th>\n",
       "      <th>sp500</th>\n",
       "    </tr>\n",
       "  </thead>\n",
       "  <tbody>\n",
       "    <tr>\n",
       "      <th>0</th>\n",
       "      <td>113 days</td>\n",
       "      <td>38.0</td>\n",
       "      <td>41.49</td>\n",
       "    </tr>\n",
       "    <tr>\n",
       "      <th>1</th>\n",
       "      <td>83 days</td>\n",
       "      <td>38.0</td>\n",
       "      <td>-76.89</td>\n",
       "    </tr>\n",
       "    <tr>\n",
       "      <th>2</th>\n",
       "      <td>49 days</td>\n",
       "      <td>28.0</td>\n",
       "      <td>8.77</td>\n",
       "    </tr>\n",
       "    <tr>\n",
       "      <th>3</th>\n",
       "      <td>24 days</td>\n",
       "      <td>27.0</td>\n",
       "      <td>35.98</td>\n",
       "    </tr>\n",
       "    <tr>\n",
       "      <th>4</th>\n",
       "      <td>15 days</td>\n",
       "      <td>27.0</td>\n",
       "      <td>27.21</td>\n",
       "    </tr>\n",
       "    <tr>\n",
       "      <th>5</th>\n",
       "      <td>10 days</td>\n",
       "      <td>36.0</td>\n",
       "      <td>89.05</td>\n",
       "    </tr>\n",
       "    <tr>\n",
       "      <th>6</th>\n",
       "      <td>28 days</td>\n",
       "      <td>30.0</td>\n",
       "      <td>66.05</td>\n",
       "    </tr>\n",
       "    <tr>\n",
       "      <th>7</th>\n",
       "      <td>52 days</td>\n",
       "      <td>37.0</td>\n",
       "      <td>109.28</td>\n",
       "    </tr>\n",
       "    <tr>\n",
       "      <th>8</th>\n",
       "      <td>99 days</td>\n",
       "      <td>45.0</td>\n",
       "      <td>101.25</td>\n",
       "    </tr>\n",
       "    <tr>\n",
       "      <th>9</th>\n",
       "      <td>53 days</td>\n",
       "      <td>30.0</td>\n",
       "      <td>65.84</td>\n",
       "    </tr>\n",
       "    <tr>\n",
       "      <th>10</th>\n",
       "      <td>113 days</td>\n",
       "      <td>43.0</td>\n",
       "      <td>-26.87</td>\n",
       "    </tr>\n",
       "    <tr>\n",
       "      <th>11</th>\n",
       "      <td>75 days</td>\n",
       "      <td>28.0</td>\n",
       "      <td>-82.57</td>\n",
       "    </tr>\n",
       "    <tr>\n",
       "      <th>12</th>\n",
       "      <td>13 days</td>\n",
       "      <td>35.0</td>\n",
       "      <td>52.48</td>\n",
       "    </tr>\n",
       "    <tr>\n",
       "      <th>13</th>\n",
       "      <td>18 days</td>\n",
       "      <td>26.0</td>\n",
       "      <td>59.38</td>\n",
       "    </tr>\n",
       "    <tr>\n",
       "      <th>14</th>\n",
       "      <td>25 days</td>\n",
       "      <td>37.0</td>\n",
       "      <td>16.53</td>\n",
       "    </tr>\n",
       "    <tr>\n",
       "      <th>15</th>\n",
       "      <td>97 days</td>\n",
       "      <td>36.0</td>\n",
       "      <td>-39.06</td>\n",
       "    </tr>\n",
       "    <tr>\n",
       "      <th>16</th>\n",
       "      <td>101 days</td>\n",
       "      <td>28.0</td>\n",
       "      <td>-209.63</td>\n",
       "    </tr>\n",
       "    <tr>\n",
       "      <th>17</th>\n",
       "      <td>24 days</td>\n",
       "      <td>29.0</td>\n",
       "      <td>148.07</td>\n",
       "    </tr>\n",
       "    <tr>\n",
       "      <th>18</th>\n",
       "      <td>36 days</td>\n",
       "      <td>33.0</td>\n",
       "      <td>134.65</td>\n",
       "    </tr>\n",
       "    <tr>\n",
       "      <th>19</th>\n",
       "      <td>85 days</td>\n",
       "      <td>30.0</td>\n",
       "      <td>-156.60</td>\n",
       "    </tr>\n",
       "    <tr>\n",
       "      <th>20</th>\n",
       "      <td>94 days</td>\n",
       "      <td>44.0</td>\n",
       "      <td>NaN</td>\n",
       "    </tr>\n",
       "    <tr>\n",
       "      <th>21</th>\n",
       "      <td>24 days</td>\n",
       "      <td>31.0</td>\n",
       "      <td>NaN</td>\n",
       "    </tr>\n",
       "    <tr>\n",
       "      <th>22</th>\n",
       "      <td>63 days</td>\n",
       "      <td>28.0</td>\n",
       "      <td>NaN</td>\n",
       "    </tr>\n",
       "    <tr>\n",
       "      <th>23</th>\n",
       "      <td>94 days</td>\n",
       "      <td>34.0</td>\n",
       "      <td>-44.91</td>\n",
       "    </tr>\n",
       "    <tr>\n",
       "      <th>24</th>\n",
       "      <td>33 days</td>\n",
       "      <td>27.0</td>\n",
       "      <td>101.12</td>\n",
       "    </tr>\n",
       "    <tr>\n",
       "      <th>25</th>\n",
       "      <td>21 days</td>\n",
       "      <td>32.0</td>\n",
       "      <td>NaN</td>\n",
       "    </tr>\n",
       "  </tbody>\n",
       "</table>\n",
       "</div>"
      ],
      "text/plain": [
       "       Date  Fear Greed   sp500\n",
       "0  113 days        38.0   41.49\n",
       "1   83 days        38.0  -76.89\n",
       "2   49 days        28.0    8.77\n",
       "3   24 days        27.0   35.98\n",
       "4   15 days        27.0   27.21\n",
       "5   10 days        36.0   89.05\n",
       "6   28 days        30.0   66.05\n",
       "7   52 days        37.0  109.28\n",
       "8   99 days        45.0  101.25\n",
       "9   53 days        30.0   65.84\n",
       "10 113 days        43.0  -26.87\n",
       "11  75 days        28.0  -82.57\n",
       "12  13 days        35.0   52.48\n",
       "13  18 days        26.0   59.38\n",
       "14  25 days        37.0   16.53\n",
       "15  97 days        36.0  -39.06\n",
       "16 101 days        28.0 -209.63\n",
       "17  24 days        29.0  148.07\n",
       "18  36 days        33.0  134.65\n",
       "19  85 days        30.0 -156.60\n",
       "20  94 days        44.0     NaN\n",
       "21  24 days        31.0     NaN\n",
       "22  63 days        28.0     NaN\n",
       "23  94 days        34.0  -44.91\n",
       "24  33 days        27.0  101.12\n",
       "25  21 days        32.0     NaN"
      ]
     },
     "execution_count": 60,
     "metadata": {},
     "output_type": "execute_result"
    }
   ],
   "source": [
    "feature3"
   ]
  },
  {
   "cell_type": "markdown",
   "metadata": {},
   "source": [
    "#### Percentage change in S&P500 histogram"
   ]
  },
  {
   "cell_type": "code",
   "execution_count": 61,
   "metadata": {},
   "outputs": [
    {
     "data": {
      "text/plain": [
       "<AxesSubplot: >"
      ]
     },
     "execution_count": 61,
     "metadata": {},
     "output_type": "execute_result"
    },
    {
     "data": {
      "image/png": "[encoded data removed]",
      "text/plain": [
       "<Figure size 432x288 with 1 Axes>"
      ]
     },
     "metadata": {
      "needs_background": "light"
     },
     "output_type": "display_data"
    }
   ],
   "source": [
    "fear_greed['sp500_change_%'].hist(bins=15)"
   ]
  },
  {
   "cell_type": "markdown",
   "metadata": {},
   "source": [
    "#### Percentage change by category"
   ]
  },
  {
   "cell_type": "code",
   "execution_count": 62,
   "metadata": {},
   "outputs": [
    {
     "data": {
      "text/plain": [
       "Category\n",
       "Extreme Fear    -0.174877\n",
       "Extreme Greed    0.198846\n",
       "Fear             0.032843\n",
       "Greed            0.112258\n",
       "Name: sp500_change_%, dtype: float64"
      ]
     },
     "execution_count": 62,
     "metadata": {},
     "output_type": "execute_result"
    }
   ],
   "source": [
    "fear_greed.groupby('Category')['sp500_change_%'].mean()"
   ]
  },
  {
   "cell_type": "markdown",
   "metadata": {},
   "source": [
    "### Percentage change over months"
   ]
  },
  {
   "cell_type": "code",
   "execution_count": 63,
   "metadata": {},
   "outputs": [
    {
     "data": {
      "text/plain": [
       "<AxesSubplot: xlabel='Year_Month'>"
      ]
     },
     "execution_count": 63,
     "metadata": {},
     "output_type": "execute_result"
    },
    {
     "data": {
      "image/png": "[encoded data removed]",
      "text/plain": [
       "<Figure size 2376x576 with 1 Axes>"
      ]
     },
     "metadata": {
      "needs_background": "light"
     },
     "output_type": "display_data"
    }
   ],
   "source": [
    "fear_greed.groupby('Year_Month')['sp500_change_%'].mean().reset_index().set_index('Year_Month').plot(kind='bar',figsize=(33,8))"
   ]
  },
  {
   "cell_type": "markdown",
   "metadata": {},
   "source": [
    "## Simulation"
   ]
  },
  {
   "cell_type": "code",
   "execution_count": 64,
   "metadata": {},
   "outputs": [],
   "source": [
    "def buy_sell(Category,Category_shift,invest):\n",
    "    if((Category==\"Fear\") & (Category_shift==\"Greed\")): return -invest\n",
    "    elif((Category==\"Extreme Fear\") & ( Category_shift==\"Fear\")): return -(invest *2)\n",
    "    #elif((Category==\"Extreme Greed\") & (Category_shift==\"Greed\")): return (invest *3)\n",
    "    else: return 0"
   ]
  },
  {
   "cell_type": "code",
   "execution_count": null,
   "metadata": {
    "tags": []
   },
   "outputs": [],
   "source": [
    "simulation=fear_greed.copy()\n",
    "simulation['Category_shift']=simulation['Category'].shift(1)\n",
    "simulation['Change_Flag']=simulation.apply(lambda x: 0 if(x.Category==x.Category_shift) else 1 ,axis=1)"
   ]
  },
  {
   "cell_type": "code",
   "execution_count": null,
   "metadata": {},
   "outputs": [],
   "source": [
    "invest=1\n",
    "simulation['Buy_Sell']=simulation.apply(lambda x: buy_sell(x.Category,x.Category_shift,invest),axis=1)"
   ]
  },
  {
   "cell_type": "markdown",
   "metadata": {},
   "source": [
    "### Buying logic if in Fear or extreme fear"
   ]
  },
  {
   "cell_type": "code",
   "execution_count": null,
   "metadata": {},
   "outputs": [],
   "source": [
    "\"\"\"\n",
    "If in Fear category (Breath thrust):\n",
    "1.\tConsecutive declining Y days (default 10): Bull -> Bear. Invest “X”\n",
    "2.\tAdvancing Y days (default 10): Bear -> Bull. Hold \n",
    "\"\"\"\n",
    "for index_val in simulation[simulation['Buy_Sell']==-invest].index.tolist():\n",
    "    if(simulation.loc[index_val+10]['sp500']<simulation.loc[index_val]['sp500']):\n",
    "        simulation.loc[index_val+10,'Buy_Sell']=-invest\n",
    "        \n",
    "\"\"\"\n",
    "If in Extreme fear category (Breath thrust):\n",
    "1.\tDeclining Y days (default 10): Bear -> Bear. Invest “2X”\n",
    "\n",
    "\"\"\"\n",
    "for index_val in simulation[simulation['Buy_Sell']==-invest*2].index.tolist():\n",
    "    if(simulation.loc[index_val+10]['sp500']<simulation.loc[index_val]['sp500']):\n",
    "        simulation.loc[index_val+10,'Buy_Sell']=-2 * invest\n"
   ]
  },
  {
   "cell_type": "markdown",
   "metadata": {},
   "source": [
    "### Selling logic in Extreme Greed"
   ]
  },
  {
   "cell_type": "code",
   "execution_count": null,
   "metadata": {
    "tags": []
   },
   "outputs": [],
   "source": [
    "for index_val in simulation.index.tolist():\n",
    "    if((simulation.loc[index_val]['Category']==\"Extreme Greed\") & (simulation.loc[index_val]['Category_shift']==\"Greed\")):\n",
    "        if (simulation.loc[0:index_val,'Buy_Sell'].sum())<0:\n",
    "            simulation.loc[index_val,'Buy_Sell']= simulation.loc[0:index_val,'Buy_Sell'].sum() * -1 *0.5"
   ]
  },
  {
   "cell_type": "code",
   "execution_count": null,
   "metadata": {},
   "outputs": [],
   "source": [
    "\"\"\"\n",
    "If in Extreme greed category (Breath thrust):\n",
    "    Declining Y days (default 10): Bull -> Bull. Sell 50%\n",
    "\n",
    "\"\"\"\n",
    "for index_val in simulation[simulation['Buy_Sell']==3*invest].index.tolist():\n",
    "    if(simulation.loc[index_val+10]['sp500']>simulation.loc[index_val]['sp500']):\n",
    "        if (simulation.loc[0:index_val+10,'Buy_Sell'].sum())<0:\n",
    "            simulation.loc[index_val+10,'Buy_Sell']= simulation.loc[0:index_val+10,'Buy_Sell'].sum() * -1 *0.5\n"
   ]
  },
  {
   "cell_type": "code",
   "execution_count": null,
   "metadata": {},
   "outputs": [],
   "source": [
    "simulation['Buy_Sell_Amt']=simulation['Buy_Sell'] * simulation['sp500']"
   ]
  },
  {
   "cell_type": "code",
   "execution_count": null,
   "metadata": {
    "tags": []
   },
   "outputs": [],
   "source": [
    "simulation"
   ]
  },
  {
   "cell_type": "code",
   "execution_count": null,
   "metadata": {},
   "outputs": [],
   "source": [
    "simulation.to_csv('/Users/a0t0az3/Documents/Personal_Projects/Trading_Bot/Untitled/Data/simulation.csv',index=False)"
   ]
  },
  {
   "cell_type": "code",
   "execution_count": null,
   "metadata": {},
   "outputs": [],
   "source": [
    "fear_greed.to_csv('/Users/a0t0az3/Documents/Personal_Projects/Trading_Bot/Untitled/Data/eda_data.csv',index=False)"
   ]
  },
  {
   "cell_type": "code",
   "execution_count": null,
   "metadata": {},
   "outputs": [],
   "source": [
    "def yfinance_data(stock_name):\n",
    "    \"\"\"\n",
    "    This functions raeds a stock data from yahoo finance given a ticker symbol.\n",
    "    \"\"\"\n",
    "    "
   ]
  }
 ],
 "metadata": {
  "kernelspec": {
   "display_name": "Python 3 (ipykernel)",
   "language": "python",
   "name": "python3"
  },
  "language_info": {
   "codemirror_mode": {
    "name": "ipython",
    "version": 3
   },
   "file_extension": ".py",
   "mimetype": "text/x-python",
   "name": "python",
   "nbconvert_exporter": "python",
   "pygments_lexer": "ipython3",
   "version": "3.8.8"
  }
 },
 "nbformat": 4,
 "nbformat_minor": 4
}
